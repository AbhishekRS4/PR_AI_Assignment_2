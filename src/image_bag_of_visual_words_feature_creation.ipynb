{
 "cells": [
  {
   "cell_type": "code",
   "execution_count": null,
   "metadata": {},
   "outputs": [],
   "source": [
    "import os\n",
    "import sys\n",
    "import cv2\n",
    "import time\n",
    "import numpy as np\n",
    "\n",
    "from image_dataset import ImageDatasetLoader, ImageFeaturesDataset"
   ]
  },
  {
   "cell_type": "markdown",
   "metadata": {},
   "source": [
    "## 1. Raw image dataset loader"
   ]
  },
  {
   "cell_type": "code",
   "execution_count": null,
   "metadata": {},
   "outputs": [],
   "source": [
    "dir_dataset_bigcats = \"F:/ml_datasets/RUG/pattern_recognition/assignment_2/BigCats/\""
   ]
  },
  {
   "cell_type": "code",
   "execution_count": null,
   "metadata": {},
   "outputs": [],
   "source": [
    "bigcats_raw_dataset_loader = ImageDatasetLoader(dir_dataset_bigcats)"
   ]
  },
  {
   "cell_type": "code",
   "execution_count": null,
   "metadata": {},
   "outputs": [],
   "source": [
    "bigcats_raw_dataset_loader.load_dataset()"
   ]
  },
  {
   "cell_type": "code",
   "execution_count": null,
   "metadata": {},
   "outputs": [],
   "source": [
    "bigcats_raw_dataset_loader.images.shape"
   ]
  },
  {
   "cell_type": "code",
   "execution_count": null,
   "metadata": {},
   "outputs": [],
   "source": [
    "bigcats_raw_dataset_loader.labels.shape"
   ]
  },
  {
   "cell_type": "code",
   "execution_count": null,
   "metadata": {},
   "outputs": [],
   "source": []
  },
  {
   "cell_type": "markdown",
   "metadata": {},
   "source": [
    "## 2. Generate and save SIFT + Bag Of Visual Words [BOVW] features [to be used only for image data]"
   ]
  },
  {
   "cell_type": "code",
   "execution_count": null,
   "metadata": {},
   "outputs": [],
   "source": [
    "from image_features import SIFTBagofVisualWordsFeatureExtractor"
   ]
  },
  {
   "cell_type": "code",
   "execution_count": null,
   "metadata": {},
   "outputs": [],
   "source": [
    "from learning_utils import get_encoded_labels, split_data"
   ]
  },
  {
   "cell_type": "code",
   "execution_count": null,
   "metadata": {},
   "outputs": [],
   "source": [
    "_, encoded_labels = get_encoded_labels(bigcats_raw_dataset_loader.labels)"
   ]
  },
  {
   "cell_type": "code",
   "execution_count": null,
   "metadata": {},
   "outputs": [],
   "source": [
    "train_x, test_x, train_y, test_y = split_data(bigcats_raw_dataset_loader.images, encoded_labels)"
   ]
  },
  {
   "cell_type": "code",
   "execution_count": null,
   "metadata": {},
   "outputs": [],
   "source": [
    "dir_bovw_features_data = \"bovw_features_data\"\n",
    "if not os.path.isdir(dir_bovw_features_data):\n",
    "    os.makedirs(dir_bovw_features_data)"
   ]
  },
  {
   "cell_type": "markdown",
   "metadata": {},
   "source": [
    "#### 2.1 Generate BOVW with K-Means clustering"
   ]
  },
  {
   "cell_type": "code",
   "execution_count": null,
   "metadata": {},
   "outputs": [],
   "source": [
    "for num_words in range(5, 205, 5):\n",
    "    bovw_feature_extractor = SIFTBagofVisualWordsFeatureExtractor(train_x, clustering_method=\"kmeans\", num_visual_words=num_words)\n",
    "    bovw_feature_extractor.init_sift()\n",
    "    bovw_feature_extractor.compute_descriptor_on_train_set()\n",
    "    bovw_feature_extractor.init_clustering()\n",
    "    bovw_feature_extractor.fit_clustering_on_train_set()\n",
    "    \n",
    "    t1 = time.time()\n",
    "    train_bovw = bovw_feature_extractor.get_train_image_histograms()\n",
    "    t2 = time.time()\n",
    "    print(f\"Time taken for SIFT + BOVW features for train dataset : {t2 - t1} sec., num visual words : {num_words}\")\n",
    "    file_train = os.path.join(\n",
    "        dir_bovw_features_data, \n",
    "        f\"train_{bovw_feature_extractor.clustering_method}_{bovw_feature_extractor.num_visual_words}.npy\"\n",
    "    )\n",
    "    np.save(file_train, train_bovw)\n",
    "    \n",
    "    t1 = time.time()\n",
    "    test_bovw = bovw_feature_extractor.get_test_image_histograms(test_x)\n",
    "    t2 = time.time()\n",
    "    print(f\"Time taken for SIFT + BOVW features for test dataset : {t2 - t1} sec., num visual words : {num_words}\")\n",
    "    file_test = os.path.join(\n",
    "        dir_bovw_features_data,\n",
    "        f\"test_{bovw_feature_extractor.clustering_method}_{bovw_feature_extractor.num_visual_words}.npy\"\n",
    "    )\n",
    "    np.save(file_test, test_bovw)"
   ]
  },
  {
   "cell_type": "code",
   "execution_count": null,
   "metadata": {},
   "outputs": [],
   "source": []
  },
  {
   "cell_type": "markdown",
   "metadata": {},
   "source": [
    "## 3. Save image label arrays"
   ]
  },
  {
   "cell_type": "code",
   "execution_count": null,
   "metadata": {},
   "outputs": [],
   "source": [
    "np.save(os.path.join(dir_bovw_features_data, \"train_labels.npy\"), train_y)"
   ]
  },
  {
   "cell_type": "code",
   "execution_count": null,
   "metadata": {},
   "outputs": [],
   "source": [
    "np.save(os.path.join(dir_bovw_features_data, \"test_labels.npy\"), test_y)"
   ]
  },
  {
   "cell_type": "code",
   "execution_count": null,
   "metadata": {},
   "outputs": [],
   "source": []
  }
 ],
 "metadata": {
  "kernelspec": {
   "display_name": "Python 3",
   "language": "python",
   "name": "python3"
  },
  "language_info": {
   "codemirror_mode": {
    "name": "ipython",
    "version": 3
   },
   "file_extension": ".py",
   "mimetype": "text/x-python",
   "name": "python",
   "nbconvert_exporter": "python",
   "pygments_lexer": "ipython3",
   "version": "3.7.7"
  }
 },
 "nbformat": 4,
 "nbformat_minor": 4
}
