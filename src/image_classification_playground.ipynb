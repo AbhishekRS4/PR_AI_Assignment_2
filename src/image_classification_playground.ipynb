{
 "cells": [
  {
   "cell_type": "code",
   "execution_count": 1,
   "metadata": {},
   "outputs": [],
   "source": [
    "import os\n",
    "import sys\n",
    "import cv2\n",
    "import time\n",
    "import numpy as np\n",
    "\n",
    "from image_dataset import ImageDatasetLoader, ImageFeaturesDataset"
   ]
  },
  {
   "cell_type": "markdown",
   "metadata": {},
   "source": [
    "## 1. Raw image dataset loader"
   ]
  },
  {
   "cell_type": "code",
   "execution_count": 2,
   "metadata": {},
   "outputs": [],
   "source": [
    "dir_dataset_bigcats = \"F:/ml_datasets/RUG/pattern_recognition/assignment_2/BigCats/\""
   ]
  },
  {
   "cell_type": "code",
   "execution_count": 3,
   "metadata": {},
   "outputs": [],
   "source": [
    "bigcats_raw_dataset_loader = ImageDatasetLoader(dir_dataset_bigcats)"
   ]
  },
  {
   "cell_type": "code",
   "execution_count": 4,
   "metadata": {},
   "outputs": [
    {
     "name": "stdout",
     "output_type": "stream",
     "text": [
      "dataset directory : F:/ml_datasets/RUG/pattern_recognition/assignment_2/BigCats/\n",
      "found the following image categories in the dataset directory\n",
      "['Cheetah', 'Jaguar', 'Leopard', 'Lion', 'Tiger']\n",
      "num images : 38, image category: Cheetah\n",
      "num images : 30, image category: Jaguar\n",
      "num images : 31, image category: Leopard\n",
      "num images : 32, image category: Lion\n",
      "num images : 39, image category: Tiger\n"
     ]
    }
   ],
   "source": [
    "bigcats_raw_dataset_loader.load_dataset()"
   ]
  },
  {
   "cell_type": "code",
   "execution_count": 5,
   "metadata": {},
   "outputs": [
    {
     "data": {
      "text/plain": [
       "(170,)"
      ]
     },
     "execution_count": 5,
     "metadata": {},
     "output_type": "execute_result"
    }
   ],
   "source": [
    "bigcats_raw_dataset_loader.images.shape"
   ]
  },
  {
   "cell_type": "code",
   "execution_count": 6,
   "metadata": {},
   "outputs": [
    {
     "data": {
      "text/plain": [
       "(170,)"
      ]
     },
     "execution_count": 6,
     "metadata": {},
     "output_type": "execute_result"
    }
   ],
   "source": [
    "bigcats_raw_dataset_loader.labels.shape"
   ]
  },
  {
   "cell_type": "code",
   "execution_count": null,
   "metadata": {},
   "outputs": [],
   "source": []
  },
  {
   "cell_type": "markdown",
   "metadata": {},
   "source": [
    "## 2. SIFT + Bag of visual words feature extraction [to be used only for image data]"
   ]
  },
  {
   "cell_type": "code",
   "execution_count": 7,
   "metadata": {},
   "outputs": [],
   "source": [
    "from image_features import SIFTFeatureExtractor"
   ]
  },
  {
   "cell_type": "code",
   "execution_count": 8,
   "metadata": {},
   "outputs": [],
   "source": [
    "from learning_utils import get_encoded_labels, split_data"
   ]
  },
  {
   "cell_type": "code",
   "execution_count": 9,
   "metadata": {},
   "outputs": [],
   "source": [
    "_, encoded_labels = get_encoded_labels(bigcats_raw_dataset_loader.labels)"
   ]
  },
  {
   "cell_type": "code",
   "execution_count": 10,
   "metadata": {},
   "outputs": [],
   "source": [
    "train_x, test_x, train_y, test_y = split_data(bigcats_raw_dataset_loader.images, encoded_labels)"
   ]
  },
  {
   "cell_type": "code",
   "execution_count": 11,
   "metadata": {},
   "outputs": [],
   "source": [
    "sift_extractor = SIFTFeatureExtractor(train_x, )"
   ]
  },
  {
   "cell_type": "code",
   "execution_count": 12,
   "metadata": {},
   "outputs": [],
   "source": [
    "sift_extractor.init_sift()\n",
    "sift_extractor.compute_descriptor_on_train_set()\n",
    "sift_extractor.init_k_means()\n",
    "sift_extractor.fit_k_means_on_train_set()"
   ]
  },
  {
   "cell_type": "code",
   "execution_count": 13,
   "metadata": {},
   "outputs": [
    {
     "name": "stdout",
     "output_type": "stream",
     "text": [
      "Time taken for SIFT + Bag of visual words features for train dataset : 622.7762327194214 sec.\n"
     ]
    }
   ],
   "source": [
    "t1 = time.time()\n",
    "train_hist = sift_extractor.get_train_image_histograms()\n",
    "t2 = time.time()\n",
    "print(f\"Time taken for SIFT + Bag of visual words features for train dataset : {t2 - t1} sec.\")"
   ]
  },
  {
   "cell_type": "code",
   "execution_count": 14,
   "metadata": {},
   "outputs": [
    {
     "name": "stdout",
     "output_type": "stream",
     "text": [
      "Time taken for SIFT + Bag of visual words features for test dataset : 186.43226027488708 sec.\n"
     ]
    }
   ],
   "source": [
    "t1 = time.time()\n",
    "test_hist = sift_extractor.get_test_image_histograms(test_x)\n",
    "t2 = time.time()\n",
    "print(f\"Time taken for SIFT + Bag of visual words features for test dataset : {t2 - t1} sec.\")"
   ]
  },
  {
   "cell_type": "code",
   "execution_count": null,
   "metadata": {},
   "outputs": [],
   "source": []
  },
  {
   "cell_type": "markdown",
   "metadata": {},
   "source": [
    "## 3. Create a dataset with the extracted bag of visual words features"
   ]
  },
  {
   "cell_type": "markdown",
   "metadata": {},
   "source": [
    "#### Convert numpy arrays to pandas dataframe"
   ]
  },
  {
   "cell_type": "code",
   "execution_count": 15,
   "metadata": {},
   "outputs": [],
   "source": [
    "from learning_utils import get_logistic_regression_model, get_standard_scaler, get_tfidf_transformer, get_learning_pipeline, compute_classification_metrics"
   ]
  },
  {
   "cell_type": "code",
   "execution_count": 16,
   "metadata": {},
   "outputs": [],
   "source": [
    "train_dataset = ImageFeaturesDataset(train_hist, train_y)\n",
    "train_dataset.convert_dataset()"
   ]
  },
  {
   "cell_type": "code",
   "execution_count": 17,
   "metadata": {},
   "outputs": [],
   "source": [
    "test_dataset = ImageFeaturesDataset(test_hist, test_y)\n",
    "test_dataset.convert_dataset()"
   ]
  },
  {
   "cell_type": "code",
   "execution_count": null,
   "metadata": {},
   "outputs": [],
   "source": []
  },
  {
   "cell_type": "markdown",
   "metadata": {},
   "source": [
    "## 4. Experiment with various pipelines"
   ]
  },
  {
   "cell_type": "code",
   "execution_count": 18,
   "metadata": {},
   "outputs": [],
   "source": [
    "list_pipelines = [\n",
    "    [(\"scaler\", get_standard_scaler()), (\"log_reg\", get_logistic_regression_model(150))],\n",
    "    [(\"tfidf_transformer\", get_tfidf_transformer()), (\"log_reg\", get_logistic_regression_model(150))]\n",
    "]"
   ]
  },
  {
   "cell_type": "code",
   "execution_count": 19,
   "metadata": {},
   "outputs": [
    {
     "name": "stdout",
     "output_type": "stream",
     "text": [
      "learning pipeline\n",
      "Pipeline(steps=[('scaler', StandardScaler()),\n",
      "                ('log_reg', LogisticRegression(max_iter=150))])\n",
      "----------------------\n",
      "classification metrics\n",
      "----------------------\n",
      "accuracy : 0.5294\n",
      "f1 score : 0.5312\n",
      "confustion matrix\n",
      "[[8 1 1 1 1]\n",
      " [0 2 2 0 0]\n",
      " [1 4 1 1 0]\n",
      " [0 0 0 3 2]\n",
      " [0 0 0 2 4]]\n",
      "\n",
      "learning pipeline\n",
      "Pipeline(steps=[('tfidf_transformer', TfidfTransformer()),\n",
      "                ('log_reg', LogisticRegression(max_iter=150))])\n",
      "----------------------\n",
      "classification metrics\n",
      "----------------------\n",
      "accuracy : 0.5294\n",
      "f1 score : 0.5057\n",
      "confustion matrix\n",
      "[[5 2 1 2 2]\n",
      " [0 3 1 0 0]\n",
      " [0 3 1 2 1]\n",
      " [0 0 0 3 2]\n",
      " [0 0 0 0 6]]\n",
      "\n"
     ]
    },
    {
     "name": "stderr",
     "output_type": "stream",
     "text": [
      "c:\\users\\abhishek\\appdata\\local\\programs\\python\\python37\\lib\\site-packages\\sklearn\\utils\\validation.py:985: DataConversionWarning: A column-vector y was passed when a 1d array was expected. Please change the shape of y to (n_samples, ), for example using ravel().\n",
      "  y = column_or_1d(y, warn=True)\n",
      "c:\\users\\abhishek\\appdata\\local\\programs\\python\\python37\\lib\\site-packages\\sklearn\\utils\\validation.py:985: DataConversionWarning: A column-vector y was passed when a 1d array was expected. Please change the shape of y to (n_samples, ), for example using ravel().\n",
      "  y = column_or_1d(y, warn=True)\n"
     ]
    }
   ],
   "source": [
    "for pipeline in list_pipelines:\n",
    "    train_x = train_dataset.image_features\n",
    "    train_y = train_dataset.labels\n",
    "    \n",
    "    test_x = test_dataset.image_features\n",
    "    test_y = test_dataset.labels\n",
    "    \n",
    "    learning_pipeline = get_learning_pipeline(pipeline)\n",
    "    print(\"learning pipeline\")\n",
    "    print(learning_pipeline)\n",
    "    learning_pipeline.fit(train_x, train_y)\n",
    "    test_pred = learning_pipeline.predict(test_x)\n",
    "    \n",
    "    compute_classification_metrics(test_y.label.to_numpy().ravel(), test_pred)\n",
    "    print(\"\")"
   ]
  },
  {
   "cell_type": "code",
   "execution_count": null,
   "metadata": {},
   "outputs": [],
   "source": []
  }
 ],
 "metadata": {
  "kernelspec": {
   "display_name": "Python 3",
   "language": "python",
   "name": "python3"
  },
  "language_info": {
   "codemirror_mode": {
    "name": "ipython",
    "version": 3
   },
   "file_extension": ".py",
   "mimetype": "text/x-python",
   "name": "python",
   "nbconvert_exporter": "python",
   "pygments_lexer": "ipython3",
   "version": "3.7.7"
  }
 },
 "nbformat": 4,
 "nbformat_minor": 4
}
